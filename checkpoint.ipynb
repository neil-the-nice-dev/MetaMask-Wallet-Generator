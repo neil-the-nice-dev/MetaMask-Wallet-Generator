{
 "cells": [
  {
   "cell_type": "code",
   "execution_count": 5,
   "metadata": {},
   "outputs": [],
   "source": [
    "import pandas as pd\n",
    "from datetime import datetime\n",
    "import random\n",
    "import string\n",
    "from bip_utils import Bip39MnemonicGenerator, Bip39SeedGenerator, Bip44, Bip44Coins, Bip44Changes\n",
    "import psycopg2\n",
    "from psycopg2 import sql\n",
    "\n",
    "\n",
    "DB_NAME = 'wallet'\n",
    "DB_USER = 'postgres'\n",
    "DB_PASSWORD = 'Mafate10'\n",
    "DB_HOST = 'localhost'\n",
    "DB_PORT = '5432'"
   ]
  },
  {
   "cell_type": "code",
   "execution_count": 6,
   "metadata": {},
   "outputs": [],
   "source": [
    "\n",
    "########################################################################\n",
    "number_of_wallets = 5\n",
    "########################################################################\n",
    "\n",
    "\n",
    "def generate_password(length=32):\n",
    "    chars = string.ascii_letters + string.digits + string.punctuation\n",
    "    return ''.join(random.choice(chars) for _ in range(length))\n",
    "\n",
    "def create_metamask_wallet(wallet_number):\n",
    "    mnemonic = Bip39MnemonicGenerator().FromWordsNumber(12)\n",
    "    seed = Bip39SeedGenerator(mnemonic).Generate()\n",
    "    \n",
    "    bip_obj = Bip44.FromSeed(seed, Bip44Coins.ETHEREUM).DeriveDefaultPath()\n",
    "    \n",
    "    return {\n",
    "        'Wallet ID': wallet_number,\n",
    "        'Address': bip_obj.PublicKey().ToAddress(),\n",
    "        'Private Key': bip_obj.PrivateKey().Raw().ToHex(),\n",
    "        'Mnemonic Phrase': mnemonic,\n",
    "        'Creation Date': datetime.now().strftime(\"%Y-%m-%d %H:%M:%S\"),\n",
    "        'Derivation Path': \"m/44'/60'/0'/0/0\",\n",
    "        'Password': generate_password()\n",
    "    }\n",
    "\n",
    "def generate_wallets(number):\n",
    "    return pd.DataFrame([create_metamask_wallet(i+1) for i in range(number)])\n"
   ]
  },
  {
   "cell_type": "code",
   "execution_count": 7,
   "metadata": {},
   "outputs": [
    {
     "name": "stdout",
     "output_type": "stream",
     "text": [
      "Erreur : can't adapt type 'Bip39Mnemonic'\n"
     ]
    }
   ],
   "source": [
    "\n",
    "try:\n",
    "\n",
    "    conn = psycopg2.connect(\n",
    "        dbname=DB_NAME,\n",
    "        user=DB_USER,\n",
    "        password=DB_PASSWORD,\n",
    "        host=DB_HOST,\n",
    "        port=DB_PORT\n",
    "    )\n",
    "    cursor = conn.cursor()\n",
    "\n",
    "    cursor.execute(\"\"\"\n",
    "        CREATE TABLE IF NOT EXISTS metamask_wallets (\n",
    "            wallet_id INT PRIMARY KEY,\n",
    "            address TEXT NOT NULL,\n",
    "            private_key TEXT NOT NULL,\n",
    "            mnemonic_phrase TEXT NOT NULL,\n",
    "            creation_date TIMESTAMP NOT NULL,\n",
    "            derivation_path TEXT NOT NULL,\n",
    "            password TEXT NOT NULL\n",
    "        )\n",
    "    \"\"\")\n",
    "\n",
    "    wallets_df = generate_wallets(number_of_wallets)\n",
    "    \n",
    "    for _, row in wallets_df.iterrows():\n",
    "        cursor.execute(\"\"\"\n",
    "            INSERT INTO metamask_wallets \n",
    "            (wallet_id, address, private_key, mnemonic_phrase, creation_date, derivation_path, password)\n",
    "            VALUES (%s, %s, %s, %s, %s, %s, %s)\n",
    "        \"\"\", (\n",
    "            row['Wallet ID'],\n",
    "            row['Address'],\n",
    "            row['Private Key'],\n",
    "            row['Mnemonic Phrase'],\n",
    "            row['Creation Date'],\n",
    "            row['Derivation Path'],\n",
    "            row['Password']\n",
    "        ))\n",
    "    \n",
    "    conn.commit()\n",
    "    print(f\"{number_of_wallets} wallets sauvegardés avec succès dans PostgreSQL !\")\n",
    "\n",
    "except Exception as e:\n",
    "    print(f\"Erreur : {e}\")\n",
    "    conn.rollback()\n",
    "\n",
    "finally:\n",
    "    if cursor:\n",
    "        cursor.close()\n",
    "    if conn:\n",
    "        conn.close()"
   ]
  }
 ],
 "metadata": {
  "kernelspec": {
   "display_name": "base",
   "language": "python",
   "name": "python3"
  },
  "language_info": {
   "codemirror_mode": {
    "name": "ipython",
    "version": 3
   },
   "file_extension": ".py",
   "mimetype": "text/x-python",
   "name": "python",
   "nbconvert_exporter": "python",
   "pygments_lexer": "ipython3",
   "version": "3.11.7"
  }
 },
 "nbformat": 4,
 "nbformat_minor": 2
}
